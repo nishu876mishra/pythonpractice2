{
 "cells": [
  {
   "cell_type": "code",
   "execution_count": 1,
   "metadata": {},
   "outputs": [],
   "source": [
    "#If-Statement\n",
    "#Type1"
   ]
  },
  {
   "cell_type": "code",
   "execution_count": 5,
   "metadata": {},
   "outputs": [
    {
     "name": "stdout",
     "output_type": "stream",
     "text": [
      "Enter 1st number:23\n",
      "Enter 2nd number:45\n",
      "This is greater: 45\n"
     ]
    }
   ],
   "source": [
    "a=int(input('Enter 1st number:'))\n",
    "b=int(input('Enter 2nd number:'))\n",
    "if a>b:\n",
    "    print('This is greater:',a)\n",
    "else:\n",
    "    print('This is greater:',b)"
   ]
  },
  {
   "cell_type": "code",
   "execution_count": 7,
   "metadata": {},
   "outputs": [
    {
     "name": "stdout",
     "output_type": "stream",
     "text": [
      "Enter the name of operator:qwerty\n",
      "He is someone else\n"
     ]
    }
   ],
   "source": [
    "name=input(\"Enter the name of operator:\")\n",
    "if name=='Nishant':\n",
    "    print('Hellow how are you:',name)\n",
    "else:\n",
    "    print('He is someone else')\n",
    "    "
   ]
  },
  {
   "cell_type": "code",
   "execution_count": null,
   "metadata": {},
   "outputs": [],
   "source": [
    "#WAP to enter the Bike brands and then print them if not then print its not recommended"
   ]
  },
  {
   "cell_type": "code",
   "execution_count": 16,
   "metadata": {},
   "outputs": [
    {
     "name": "stdout",
     "output_type": "stream",
     "text": [
      "Enter the name of Bike Brand:TVS\n",
      "This brand is not under the acceptable list\n"
     ]
    }
   ],
   "source": [
    "brand=input('Enter the name of Bike Brand:')\n",
    "if brand=='RE':\n",
    "    print('The brand is accepatale:',brand)\n",
    "elif brand=='Honda':\n",
    "    print('The brand is acceptabe:',brand)\n",
    "elif brand=='BMW':\n",
    "    print('The brand is acceptable:',brand)\n",
    "elif brand=='Yamaha':\n",
    "    print('The brand is acceptable:',brand)\n",
    "else:    \n",
    "    print(\"This brand is not under the acceptable list\")"
   ]
  },
  {
   "cell_type": "code",
   "execution_count": null,
   "metadata": {},
   "outputs": [],
   "source": []
  },
  {
   "cell_type": "markdown",
   "metadata": {},
   "source": [
    "n1= int(input('enter num1:'))\n",
    "n2= int(input('enter num2:'))\n",
    "n3= int(input('enter num3:'))\n",
    "print('numbers are:',n1,n2,n3\n",
    "\n",
    "\n"
   ]
  },
  {
   "cell_type": "code",
   "execution_count": 19,
   "metadata": {},
   "outputs": [
    {
     "name": "stdout",
     "output_type": "stream",
     "text": [
      "Enter num1=21\n",
      "Enter num2=3467899\n",
      "Enter num3=984321\n",
      "The greatest number is: 3467899\n",
      "Thank you Durga Sir\n"
     ]
    }
   ],
   "source": [
    "n1 = int(input('Enter num1='))\n",
    "n2 = int(input('Enter num2='))\n",
    "n3 = int(input('Enter num3='))\n",
    "if n1>n2 and n1>n3:\n",
    "    print(\"the greatest number is:\",n1)\n",
    "elif n2>n1 and n2>n3:\n",
    "    print(\"The greatest number is:\",n2)\n",
    "elif n3>n1 and n3>n2:\n",
    "    print('the greatest number is:',n3)\n",
    "print(\"Thank you Durga Sir\")    "
   ]
  },
  {
   "cell_type": "code",
   "execution_count": 20,
   "metadata": {},
   "outputs": [],
   "source": [
    "#Q. Write a program to take a single digit number from the key board and print is value in English word?"
   ]
  },
  {
   "cell_type": "code",
   "execution_count": 26,
   "metadata": {},
   "outputs": [
    {
     "name": "stdout",
     "output_type": "stream",
     "text": [
      "Enter the digits between 0 to 9  1111111111\n",
      "Please enter the digits in-betwen 0 to 9\n"
     ]
    }
   ],
   "source": [
    "a=int(input('Enter the digits between 0 to 9  '))\n",
    "if a==0:\n",
    "    print('Zero')\n",
    "elif a==1:\n",
    "    print('One')\n",
    "elif a==2:\n",
    "    print('Two')\n",
    "elif a==3:\n",
    "    print('Three')\n",
    "elif a==4:\n",
    "    print('Four')\n",
    "elif a==5:\n",
    "    print('Five')\n",
    "elif a==6:\n",
    "    print('Six')\n",
    "elif a==7:\n",
    "    print('Seven')\n",
    "elif a==8:\n",
    "    print('Eight')\n",
    "elif a==9:\n",
    "    print('Nine')\n",
    "else:\n",
    "    print('Please enter the digits in-betwen 0 to 9')\n",
    "    \n",
    "    "
   ]
  },
  {
   "cell_type": "markdown",
   "metadata": {},
   "source": []
  },
  {
   "cell_type": "code",
   "execution_count": 28,
   "metadata": {},
   "outputs": [
    {
     "name": "stdout",
     "output_type": "stream",
     "text": [
      "Enter the number between 0 to 9:::8\n",
      "Eight\n"
     ]
    }
   ],
   "source": [
    "list=['Zero','One','Two','Three','Four','Five','Six','Seven','Eight','Nine']\n",
    "n=int(input('Enter the number between 0 to 9:::'))\n",
    "print(list[n])"
   ]
  },
  {
   "cell_type": "code",
   "execution_count": 44,
   "metadata": {},
   "outputs": [
    {
     "name": "stdout",
     "output_type": "stream",
     "text": [
      "Enter a number between 0-99 ::88\n",
      "Thank you for your time and the output is:: Eighty Eight\n"
     ]
    }
   ],
   "source": [
    "list1=['','One','Two','Three','Four','Five','Six','Seven','Eight','Nine','Ten','Eleven','Twelve','Thirteen','Fourteen','Fifteen','Sixteen','Seventeen','Eighteen','Nineteen']\n",
    "list2=['','','Twenty','Thirty','Forty','Fifty','Sixty','Seventy','Eighty','Ninty']\n",
    "#list3=['','One Hundred','Two Hundred','Three Hundred','Four Hundres=d','Five Hundred','Six Hundred','Seven Hundred','Eight Hundred','Nine Hundred']\n",
    "n=int(input('Enter a number between 0-99 ::'))\n",
    "output=''\n",
    "if n==0:\n",
    "    output='Zero'\n",
    "elif n<=19:\n",
    "    output=list1[n]\n",
    "elif n<=99:\n",
    "    output=list2[n//10]+' '+list1[n%10]\n",
    "#elif n>99 and n<=999:\n",
    "    #output=list3[n//100]+' '+list2[n//10]+' '+list1[n%10]\n",
    "else:\n",
    "    output='Please enter value in between 0 to 99 only'\n",
    "print(\"Thank you for your time and the output is::\", output)    \n",
    "    \n",
    "    "
   ]
  },
  {
   "cell_type": "code",
   "execution_count": null,
   "metadata": {},
   "outputs": [],
   "source": []
  },
  {
   "cell_type": "code",
   "execution_count": null,
   "metadata": {},
   "outputs": [],
   "source": []
  }
 ],
 "metadata": {
  "kernelspec": {
   "display_name": "Python 3",
   "language": "python",
   "name": "python3"
  },
  "language_info": {
   "codemirror_mode": {
    "name": "ipython",
    "version": 3
   },
   "file_extension": ".py",
   "mimetype": "text/x-python",
   "name": "python",
   "nbconvert_exporter": "python",
   "pygments_lexer": "ipython3",
   "version": "3.7.6"
  }
 },
 "nbformat": 4,
 "nbformat_minor": 4
}
