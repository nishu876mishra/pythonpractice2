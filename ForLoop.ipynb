{
 "cells": [
  {
   "cell_type": "code",
   "execution_count": 5,
   "metadata": {},
   "outputs": [
    {
     "name": "stdout",
     "output_type": "stream",
     "text": [
      "U\n",
      "n\n",
      "i\n",
      "v\n",
      "e\n",
      "r\n",
      "s\n",
      "a\n",
      "l\n",
      " \n",
      "T\n",
      "r\n",
      "u\n",
      "t\n",
      "h\n"
     ]
    }
   ],
   "source": [
    "s='Universal Truth'\n",
    "for x in s:\n",
    "    print(x)\n"
   ]
  },
  {
   "cell_type": "code",
   "execution_count": 10,
   "metadata": {},
   "outputs": [
    {
     "name": "stdout",
     "output_type": "stream",
     "text": [
      "Character is present at 0 this U\n",
      "Character is present at 1 this n\n",
      "Character is present at 2 this i\n",
      "Character is present at 3 this v\n",
      "Character is present at 4 this e\n",
      "Character is present at 5 this r\n",
      "Character is present at 6 this s\n",
      "Character is present at 7 this a\n",
      "Character is present at 8 this l\n",
      "Character is present at 9 this  \n",
      "Character is present at 10 this T\n",
      "Character is present at 11 this r\n",
      "Character is present at 12 this u\n",
      "Character is present at 13 this t\n",
      "Character is present at 14 this h\n",
      "Character is present at 15 this  \n",
      "Character is present at 16 this i\n",
      "Character is present at 17 this s\n",
      "Character is present at 18 this B\n",
      "Character is present at 19 this e\n",
      "Character is present at 20 this s\n",
      "Character is present at 21 this t\n"
     ]
    }
   ],
   "source": [
    "s='Universal Truth isBest'\n",
    "i=0\n",
    "for x in s:\n",
    "    print('Character is present at {} this {}'.format(i,x))\n",
    "    i=i+1\n",
    "    "
   ]
  },
  {
   "cell_type": "code",
   "execution_count": 11,
   "metadata": {},
   "outputs": [
    {
     "name": "stdout",
     "output_type": "stream",
     "text": [
      "Enter any String::Nishant Mishra is my name\n",
      "Character is present at 0 this N\n",
      "Character is present at 1 this i\n",
      "Character is present at 2 this s\n",
      "Character is present at 3 this h\n",
      "Character is present at 4 this a\n",
      "Character is present at 5 this n\n",
      "Character is present at 6 this t\n",
      "Character is present at 7 this  \n",
      "Character is present at 8 this M\n",
      "Character is present at 9 this i\n",
      "Character is present at 10 this s\n",
      "Character is present at 11 this h\n",
      "Character is present at 12 this r\n",
      "Character is present at 13 this a\n",
      "Character is present at 14 this  \n",
      "Character is present at 15 this i\n",
      "Character is present at 16 this s\n",
      "Character is present at 17 this  \n",
      "Character is present at 18 this m\n",
      "Character is present at 19 this y\n",
      "Character is present at 20 this  \n",
      "Character is present at 21 this n\n",
      "Character is present at 22 this a\n",
      "Character is present at 23 this m\n",
      "Character is present at 24 this e\n"
     ]
    }
   ],
   "source": [
    "s=input('Enter any String::')\n",
    "i=0\n",
    "for x in s:\n",
    "    print('Character is present at {} this {}'.format(i,x))\n",
    "    i=i+1\n",
    "    "
   ]
  },
  {
   "cell_type": "code",
   "execution_count": 12,
   "metadata": {},
   "outputs": [],
   "source": [
    "#WAP to print any single sentence 10 times"
   ]
  },
  {
   "cell_type": "code",
   "execution_count": 13,
   "metadata": {},
   "outputs": [
    {
     "name": "stdout",
     "output_type": "stream",
     "text": [
      "Hello World this is Amazing and Knowledge is POWER\n",
      "Hello World this is Amazing and Knowledge is POWER\n",
      "Hello World this is Amazing and Knowledge is POWER\n",
      "Hello World this is Amazing and Knowledge is POWER\n",
      "Hello World this is Amazing and Knowledge is POWER\n",
      "Hello World this is Amazing and Knowledge is POWER\n",
      "Hello World this is Amazing and Knowledge is POWER\n",
      "Hello World this is Amazing and Knowledge is POWER\n",
      "Hello World this is Amazing and Knowledge is POWER\n",
      "Hello World this is Amazing and Knowledge is POWER\n"
     ]
    }
   ],
   "source": [
    "for x in range(10):\n",
    "    print('Hello World this is Amazing and Knowledge is POWER')"
   ]
  },
  {
   "cell_type": "code",
   "execution_count": 14,
   "metadata": {},
   "outputs": [],
   "source": [
    "#WAP print numbers "
   ]
  },
  {
   "cell_type": "code",
   "execution_count": 16,
   "metadata": {},
   "outputs": [
    {
     "name": "stdout",
     "output_type": "stream",
     "text": [
      "1\n",
      "2\n",
      "3\n",
      "4\n",
      "5\n"
     ]
    }
   ],
   "source": [
    "for x in range(1,6):\n",
    "    print(x)"
   ]
  },
  {
   "cell_type": "code",
   "execution_count": 17,
   "metadata": {},
   "outputs": [],
   "source": [
    "#WAP print odd number between 0 to 20"
   ]
  },
  {
   "cell_type": "code",
   "execution_count": 19,
   "metadata": {},
   "outputs": [
    {
     "name": "stdout",
     "output_type": "stream",
     "text": [
      "The odd number is: 1\n",
      "The odd number is: 3\n",
      "The odd number is: 5\n",
      "The odd number is: 7\n",
      "The odd number is: 9\n",
      "The odd number is: 11\n",
      "The odd number is: 13\n",
      "The odd number is: 15\n",
      "The odd number is: 17\n",
      "The odd number is: 19\n"
     ]
    }
   ],
   "source": [
    "for x in range(0,21):\n",
    "    if x%2!=0:\n",
    "        print('The odd number is:', x)"
   ]
  },
  {
   "cell_type": "code",
   "execution_count": 21,
   "metadata": {},
   "outputs": [
    {
     "name": "stdout",
     "output_type": "stream",
     "text": [
      "1\n",
      "4\n",
      "7\n",
      "10\n",
      "13\n",
      "16\n",
      "19\n"
     ]
    }
   ],
   "source": [
    "for x in range(1,21,3):\n",
    "    print(x)"
   ]
  },
  {
   "cell_type": "code",
   "execution_count": 22,
   "metadata": {},
   "outputs": [
    {
     "name": "stdout",
     "output_type": "stream",
     "text": [
      "2\n",
      "4\n",
      "6\n",
      "8\n",
      "10\n",
      "12\n",
      "14\n",
      "16\n",
      "18\n",
      "20\n"
     ]
    }
   ],
   "source": [
    "for x in range(2,21,2):\n",
    "    print(x)"
   ]
  },
  {
   "cell_type": "code",
   "execution_count": 23,
   "metadata": {},
   "outputs": [
    {
     "name": "stdout",
     "output_type": "stream",
     "text": [
      "10\n",
      "9\n",
      "8\n",
      "7\n",
      "6\n",
      "5\n",
      "4\n",
      "3\n",
      "2\n",
      "1\n"
     ]
    }
   ],
   "source": [
    "for x in range(10,0,-1):\n",
    "    print(x)"
   ]
  },
  {
   "cell_type": "code",
   "execution_count": 24,
   "metadata": {},
   "outputs": [
    {
     "name": "stdout",
     "output_type": "stream",
     "text": [
      "20\n",
      "18\n",
      "16\n",
      "14\n",
      "12\n",
      "10\n",
      "8\n",
      "6\n",
      "4\n",
      "2\n"
     ]
    }
   ],
   "source": [
    "for x in range(20,0,-2):\n",
    "    print(x)"
   ]
  },
  {
   "cell_type": "code",
   "execution_count": 25,
   "metadata": {},
   "outputs": [],
   "source": [
    "#WAP to print the sum of numbers in the given list"
   ]
  },
  {
   "cell_type": "code",
   "execution_count": 34,
   "metadata": {},
   "outputs": [
    {
     "name": "stdout",
     "output_type": "stream",
     "text": [
      "Enter the list of numbers::[10.1,2,4.0]\n",
      "The sum of numbers in list is =  16.1\n"
     ]
    }
   ],
   "source": [
    "```````````````````````````````````````````````"
   ]
  },
  {
   "cell_type": "code",
   "execution_count": 36,
   "metadata": {
    "scrolled": true
   },
   "outputs": [
    {
     "name": "stdout",
     "output_type": "stream",
     "text": [
      "Enter the list of numbers::[1,2,3]\n"
     ]
    },
    {
     "ename": "TypeError",
     "evalue": "'float' object is not callable",
     "output_type": "error",
     "traceback": [
      "\u001b[1;31m---------------------------------------------------------------------------\u001b[0m",
      "\u001b[1;31mTypeError\u001b[0m                                 Traceback (most recent call last)",
      "\u001b[1;32m<ipython-input-36-5d3d24d99864>\u001b[0m in \u001b[0;36m<module>\u001b[1;34m\u001b[0m\n\u001b[0;32m      1\u001b[0m \u001b[0mlist\u001b[0m\u001b[1;33m=\u001b[0m\u001b[0meval\u001b[0m\u001b[1;33m(\u001b[0m\u001b[0minput\u001b[0m\u001b[1;33m(\u001b[0m\u001b[1;34m\"Enter the list of numbers::\"\u001b[0m\u001b[1;33m)\u001b[0m\u001b[1;33m)\u001b[0m\u001b[1;33m\u001b[0m\u001b[1;33m\u001b[0m\u001b[0m\n\u001b[1;32m----> 2\u001b[1;33m \u001b[0mprint\u001b[0m\u001b[1;33m(\u001b[0m\u001b[1;34m'The sum is:'\u001b[0m\u001b[1;33m,\u001b[0m\u001b[0msum\u001b[0m\u001b[1;33m(\u001b[0m\u001b[0mlist\u001b[0m\u001b[1;33m)\u001b[0m\u001b[1;33m)\u001b[0m\u001b[1;33m\u001b[0m\u001b[1;33m\u001b[0m\u001b[0m\n\u001b[0m",
      "\u001b[1;31mTypeError\u001b[0m: 'float' object is not callable"
     ]
    }
   ],
   "source": [
    "list=eval(input(\"Enter the list of numbers::\"))\n",
    "print('The sum is:',sum(list))"
   ]
  },
  {
   "cell_type": "code",
   "execution_count": null,
   "metadata": {},
   "outputs": [],
   "source": []
  }
 ],
 "metadata": {
  "kernelspec": {
   "display_name": "Python 3",
   "language": "python",
   "name": "python3"
  },
  "language_info": {
   "codemirror_mode": {
    "name": "ipython",
    "version": 3
   },
   "file_extension": ".py",
   "mimetype": "text/x-python",
   "name": "python",
   "nbconvert_exporter": "python",
   "pygments_lexer": "ipython3",
   "version": "3.7.6"
  }
 },
 "nbformat": 4,
 "nbformat_minor": 4
}
