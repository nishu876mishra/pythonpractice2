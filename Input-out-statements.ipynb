{
 "cells": [
  {
   "cell_type": "code",
   "execution_count": 1,
   "metadata": {},
   "outputs": [],
   "source": [
    "#raw_input Function (It always provide the String)"
   ]
  },
  {
   "cell_type": "code",
   "execution_count": 1,
   "metadata": {},
   "outputs": [
    {
     "name": "stdout",
     "output_type": "stream",
     "text": [
      "Enter the value123\n",
      "123\n"
     ]
    }
   ],
   "source": [
    "a1=input('Enter the value')\n",
    "print(a1)\n"
   ]
  },
  {
   "cell_type": "code",
   "execution_count": 12,
   "metadata": {},
   "outputs": [],
   "source": [
    "#WAP read 2 int value and print the sum"
   ]
  },
  {
   "cell_type": "code",
   "execution_count": 3,
   "metadata": {},
   "outputs": [
    {
     "name": "stdout",
     "output_type": "stream",
     "text": [
      "Enter the value 1:123\n",
      "Enter the value 2:234\n",
      "Sum is: 357\n"
     ]
    }
   ],
   "source": [
    "a2=input('Enter the value 1:')\n",
    "a3=input('Enter the value 2:')\n",
    "x,y=int(a2),int(a3)\n",
    "s=x+y\n",
    "print('Sum is:',s)"
   ]
  },
  {
   "cell_type": "code",
   "execution_count": 4,
   "metadata": {},
   "outputs": [
    {
     "name": "stdout",
     "output_type": "stream",
     "text": [
      "Enter 1st Number:100\n",
      "Enter 2nd Number:200\n",
      "The Sum of both numbers is: 300\n"
     ]
    }
   ],
   "source": [
    "x=int(input(\"Enter 1st Number:\"))\n",
    "y=int(input(\"Enter 2nd Number:\"))\n",
    "print(\"The Sum of both numbers is:\", x+y)"
   ]
  },
  {
   "cell_type": "code",
   "execution_count": 7,
   "metadata": {},
   "outputs": [
    {
     "name": "stdout",
     "output_type": "stream",
     "text": [
      "Enter First Name:Deepali\n",
      "Enter second Name:Mishra\n",
      "THe order is: Deepali Mishra\n",
      "The reverse order is: Mishra Deepali\n"
     ]
    }
   ],
   "source": [
    "fname=input(\"Enter First Name:\")\n",
    "sname=input(\"Enter second Name:\")\n",
    "print(\"The order is:\", fname+' '+sname)\n",
    "print(\"The reverse order is:\",sname+' '+fname)"
   ]
  },
  {
   "cell_type": "code",
   "execution_count": 8,
   "metadata": {},
   "outputs": [],
   "source": [
    "#print the sum in 1 line "
   ]
  },
  {
   "cell_type": "code",
   "execution_count": 10,
   "metadata": {},
   "outputs": [
    {
     "name": "stdout",
     "output_type": "stream",
     "text": [
      "Enter 1st number1900\n",
      "Enter 2nd number1000\n",
      "The sum is: 2900\n"
     ]
    }
   ],
   "source": [
    "print(\"The sum is:\",int(input('Enter 1st number'))+int(input('Enter 2nd number')))"
   ]
  },
  {
   "cell_type": "code",
   "execution_count": 11,
   "metadata": {},
   "outputs": [],
   "source": [
    "#WAP to enter the employees details and then print them "
   ]
  },
  {
   "cell_type": "code",
   "execution_count": 15,
   "metadata": {},
   "outputs": [
    {
     "name": "stdout",
     "output_type": "stream",
     "text": [
      "Enter the Employee nameAnant\n",
      "Enter Employee Id1234\n",
      "Enter Employee Salary56789\n",
      "Enter Employee City of AddressGorakhpur\n",
      "Employee is Marries?[True/False:]False\n",
      "Employee Name : Anant\n",
      "Employee Id: 1234\n",
      "Employee Salary: 56789.0\n",
      "Employee City of Address: Gorakhpur\n",
      "Employee is Married? False\n"
     ]
    }
   ],
   "source": [
    "ename=input(\"Enter the Employee name\")\n",
    "empid=int(input('Enter Employee Id'))\n",
    "empsal=float(input('Enter Employee Salary'))\n",
    "empadd=input('Enter Employee City of Address')\n",
    "emarried=eval(input(\"Employee is Marries?[True/False:]\"))\n",
    "print('Employee Name :', ename)\n",
    "print('Employee Id:',empid)\n",
    "print('Employee Salary:',empsal)\n",
    "print('Employee City of Address:',empadd)\n",
    "print('Employee is Married?',emarried)"
   ]
  },
  {
   "cell_type": "code",
   "execution_count": 16,
   "metadata": {},
   "outputs": [],
   "source": [
    "#WAP to take input from the keyboard of 2 numbers and print their sum "
   ]
  },
  {
   "cell_type": "code",
   "execution_count": 31,
   "metadata": {},
   "outputs": [
    {
     "name": "stdout",
     "output_type": "stream",
     "text": [
      "Enter 2 numbers:10,20\n",
      "The sum is : 30\n"
     ]
    }
   ],
   "source": [
    "a,b=[int(x) for x in input('Enter 2 numbers:').split(',')] # X in the lisy of 2 numbers is integer\n",
    "print('The sum is :', a+b)"
   ]
  },
  {
   "cell_type": "code",
   "execution_count": 30,
   "metadata": {},
   "outputs": [
    {
     "name": "stdout",
     "output_type": "stream",
     "text": [
      "Enter 2 numbers:1,2\n",
      "The sum is : 3.0\n"
     ]
    }
   ],
   "source": [
    "a,b=[float(x) for x in input('Enter 2 numbers:').split(',')] #X in list of 2 numbers is float\n",
    "print('The sum is :', a+b)"
   ]
  },
  {
   "cell_type": "code",
   "execution_count": null,
   "metadata": {},
   "outputs": [],
   "source": []
  }
 ],
 "metadata": {
  "kernelspec": {
   "display_name": "Python 3",
   "language": "python",
   "name": "python3"
  },
  "language_info": {
   "codemirror_mode": {
    "name": "ipython",
    "version": 3
   },
   "file_extension": ".py",
   "mimetype": "text/x-python",
   "name": "python",
   "nbconvert_exporter": "python",
   "pygments_lexer": "ipython3",
   "version": "3.7.6"
  }
 },
 "nbformat": 4,
 "nbformat_minor": 4
}
