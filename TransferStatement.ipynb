{
 "cells": [
  {
   "cell_type": "code",
   "execution_count": 1,
   "metadata": {},
   "outputs": [],
   "source": [
    "#Break Statement"
   ]
  },
  {
   "cell_type": "code",
   "execution_count": 12,
   "metadata": {},
   "outputs": [
    {
     "ename": "SyntaxError",
     "evalue": "invalid syntax (<ipython-input-12-18e03b6dfc38>, line 6)",
     "output_type": "error",
     "traceback": [
      "\u001b[1;36m  File \u001b[1;32m\"<ipython-input-12-18e03b6dfc38>\"\u001b[1;36m, line \u001b[1;32m6\u001b[0m\n\u001b[1;33m    else:\u001b[0m\n\u001b[1;37m       ^\u001b[0m\n\u001b[1;31mSyntaxError\u001b[0m\u001b[1;31m:\u001b[0m invalid syntax\n"
     ]
    }
   ],
   "source": [
    "for i in range(10):\n",
    "    if i==7:\n",
    "        print('This is enough you can come out of the loop')\n",
    "        break\n",
    "    print(i)  `\n",
    "print('Outside of the loop')    "
   ]
  },
  {
   "cell_type": "code",
   "execution_count": 10,
   "metadata": {},
   "outputs": [],
   "source": [
    "#shopping cart application"
   ]
  },
  {
   "cell_type": "code",
   "execution_count": 11,
   "metadata": {},
   "outputs": [
    {
     "name": "stdout",
     "output_type": "stream",
     "text": [
      "the item is 100\n",
      "the item is 20\n",
      "the item is 56\n",
      "the item is 89\n",
      "anything more than 100 needs insureance\n"
     ]
    }
   ],
   "source": [
    "cart=[100,20,56,89,999,500,21,45,1]\n",
    "for item in cart:\n",
    "    if item>500:\n",
    "        print('anything more than 100 needs insureance')\n",
    "        break\n",
    "    print('the item is',item)        "
   ]
  },
  {
   "cell_type": "code",
   "execution_count": 13,
   "metadata": {},
   "outputs": [],
   "source": [
    "#CONTINUE STATEMENT"
   ]
  },
  {
   "cell_type": "code",
   "execution_count": 16,
   "metadata": {},
   "outputs": [
    {
     "name": "stdout",
     "output_type": "stream",
     "text": [
      "Print the odd number if it is keep getting even\n",
      "1\n",
      "Print the odd number if it is keep getting even\n",
      "3\n",
      "Print the odd number if it is keep getting even\n",
      "5\n",
      "Print the odd number if it is keep getting even\n",
      "7\n",
      "Print the odd number if it is keep getting even\n",
      "9\n"
     ]
    }
   ],
   "source": [
    "for i in range(10):\n",
    "    if i%2==0:\n",
    "        print('Print the odd number if it is keep getting even')\n",
    "        continue\n",
    "    print(i)    "
   ]
  },
  {
   "cell_type": "code",
   "execution_count": 17,
   "metadata": {},
   "outputs": [
    {
     "name": "stdout",
     "output_type": "stream",
     "text": [
      "0\n",
      "Print the even number if it is keep getting odd\n",
      "2\n",
      "Print the even number if it is keep getting odd\n",
      "4\n",
      "Print the even number if it is keep getting odd\n",
      "6\n",
      "Print the even number if it is keep getting odd\n",
      "8\n",
      "Print the even number if it is keep getting odd\n"
     ]
    }
   ],
   "source": [
    "for i in range(10):\n",
    "    if i%2!=0:\n",
    "        print('Print the even number if it is keep getting odd')\n",
    "        continue\n",
    "    print(i) "
   ]
  },
  {
   "cell_type": "code",
   "execution_count": 23,
   "metadata": {
    "scrolled": true
   },
   "outputs": [
    {
     "name": "stdout",
     "output_type": "stream",
     "text": [
      "the item is in processing 100\n",
      "the item is in processing 20\n",
      "the item is in processing 56\n",
      "the item is in processing 89\n",
      "anything more than 100 needs not insureance 999\n",
      "anything more than 100 needs not insureance 900\n",
      "the item is in processing 500\n",
      "the item is in processing 21\n",
      "the item is in processing 45\n",
      "the item is in processing 1\n"
     ]
    }
   ],
   "source": [
    "cart=[100,20,56,89,999,900,500,21,45,1]\n",
    "for item in cart:\n",
    "    if item>500:\n",
    "        print('anything more than 100 needs not insureance',item)\n",
    "        continue\n",
    "    print('the item is in processing',item) "
   ]
  },
  {
   "cell_type": "code",
   "execution_count": 29,
   "metadata": {},
   "outputs": [
    {
     "name": "stdout",
     "output_type": "stream",
     "text": [
      "100/10= 10.0\n",
      "100/20= 5.0\n",
      "100/25= 4.0\n",
      "This is not possible 0\n",
      "100/4= 25.0\n",
      "100/5= 20.0\n",
      "This is not possible 0\n",
      "100/9= 11.11111111111111\n",
      "100/8= 12.5\n",
      "This is not possible 0\n",
      "This is not possible 0\n",
      "100/10= 10.0\n",
      "100/25= 4.0\n",
      "100/50= 2.0\n"
     ]
    }
   ],
   "source": [
    "l=[10,20,25,0,4,5,0,9,8,0,0,10,25,50]\n",
    "for x in l:\n",
    "    if x==0:\n",
    "        print('This is not possible 0')\n",
    "        continue\n",
    "    print('100/{}= {}'.format(x,100/x))    "
   ]
  },
  {
   "cell_type": "code",
   "execution_count": 31,
   "metadata": {},
   "outputs": [
    {
     "name": "stdout",
     "output_type": "stream",
     "text": [
      "100/10= 10.0\n",
      "100/20= 5.0\n",
      "100/25= 4.0\n",
      "This 0 is not possible 0\n",
      "100/4= 25.0\n",
      "100/5= 20.0\n",
      "This 0 is not possible 0\n",
      "100/9= 11.11111111111111\n",
      "100/8= 12.5\n",
      "This 0 is not possible 0\n",
      "This 0 is not possible 0\n",
      "100/10= 10.0\n",
      "100/25= 4.0\n",
      "100/50= 2.0\n"
     ]
    }
   ],
   "source": [
    "l=[10,20,25,0,4,5,0,9,8,0,0,10,25,50]\n",
    "for x in l:\n",
    "    if x==0:\n",
    "        print('This',x,'is not possible 0')\n",
    "    else:\n",
    "        print('100/{}= {}'.format(x,100/x))  "
   ]
  },
  {
   "cell_type": "code",
   "execution_count": 32,
   "metadata": {},
   "outputs": [],
   "source": [
    "#break statement in nested loop"
   ]
  },
  {
   "cell_type": "code",
   "execution_count": 36,
   "metadata": {},
   "outputs": [
    {
     "name": "stdout",
     "output_type": "stream",
     "text": [
      "0 0\n",
      "1 1\n",
      "2 2\n",
      "3 3\n"
     ]
    }
   ],
   "source": [
    "for i in range(4):\n",
    "    for j in range(4):\n",
    "        if i==j:\n",
    "            break\n",
    "    print(i,j)    "
   ]
  },
  {
   "cell_type": "code",
   "execution_count": null,
   "metadata": {},
   "outputs": [],
   "source": [
    "#continue statement in nested loop"
   ]
  },
  {
   "cell_type": "code",
   "execution_count": 37,
   "metadata": {},
   "outputs": [
    {
     "name": "stdout",
     "output_type": "stream",
     "text": [
      "0 3\n",
      "1 3\n",
      "2 3\n",
      "3 3\n"
     ]
    }
   ],
   "source": [
    "for i in range(4):\n",
    "    for j in range(4):\n",
    "        if i==j:\n",
    "            continue\n",
    "    print(i,j)   "
   ]
  },
  {
   "cell_type": "code",
   "execution_count": null,
   "metadata": {},
   "outputs": [],
   "source": []
  }
 ],
 "metadata": {
  "kernelspec": {
   "display_name": "Python 3",
   "language": "python",
   "name": "python3"
  },
  "language_info": {
   "codemirror_mode": {
    "name": "ipython",
    "version": 3
   },
   "file_extension": ".py",
   "mimetype": "text/x-python",
   "name": "python",
   "nbconvert_exporter": "python",
   "pygments_lexer": "ipython3",
   "version": "3.7.6"
  }
 },
 "nbformat": 4,
 "nbformat_minor": 4
}
