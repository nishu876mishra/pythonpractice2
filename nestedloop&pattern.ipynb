{
 "cells": [
  {
   "cell_type": "code",
   "execution_count": 2,
   "metadata": {},
   "outputs": [
    {
     "name": "stdout",
     "output_type": "stream",
     "text": [
      " \n",
      "Hello Nishant\n",
      " \n",
      "Hello Nishant\n",
      " \n",
      "Hello Nishant\n",
      " \n",
      "Hello Nishant\n",
      " \n",
      "Hello Nishant\n",
      " \n",
      "Hello Nishant\n",
      " \n",
      "Hello Nishant\n",
      " \n",
      "Hello Nishant\n"
     ]
    }
   ],
   "source": [
    "for i in range(4):\n",
    "    for j in range(2):\n",
    "        print(' ')\n",
    "        print('Hello Nishant')"
   ]
  },
  {
   "cell_type": "code",
   "execution_count": 3,
   "metadata": {},
   "outputs": [
    {
     "name": "stdout",
     "output_type": "stream",
     "text": [
      "i=0,j=0\n",
      "i=0,j=1\n",
      "i=1,j=0\n",
      "i=1,j=1\n",
      "i=2,j=0\n",
      "i=2,j=1\n",
      "i=3,j=0\n",
      "i=3,j=1\n"
     ]
    }
   ],
   "source": [
    "for i in range(4):\n",
    "    for j in range(2):\n",
    "        print('i={},j={}'.format(i,j))"
   ]
  },
  {
   "cell_type": "code",
   "execution_count": 9,
   "metadata": {},
   "outputs": [
    {
     "name": "stdout",
     "output_type": "stream",
     "text": [
      "Enter the value of n:7\n",
      "x  x  x  x  x  x  x  "
     ]
    }
   ],
   "source": [
    "n=int(input('Enter the value of n:'))\n",
    "for x in range(n):\n",
    "        print('*',end='  ')"
   ]
  },
  {
   "cell_type": "code",
   "execution_count": 15,
   "metadata": {},
   "outputs": [
    {
     "name": "stdout",
     "output_type": "stream",
     "text": [
      "Enter the value:8\n",
      "*  *  *  *  *  *  *  \n",
      "*  *  *  *  *  *  *  \n",
      "*  *  *  *  *  *  *  \n",
      "*  *  *  *  *  *  *  \n",
      "*  *  *  *  *  *  *  \n",
      "*  *  *  *  *  *  *  \n",
      "*  *  *  *  *  *  *  \n",
      "*  *  *  *  *  *  *  \n"
     ]
    }
   ],
   "source": [
    "m=int(input('Enter the value:'))\n",
    "for i in range(m):\n",
    "    print('*  '*n)\n",
    "    "
   ]
  },
  {
   "cell_type": "code",
   "execution_count": 26,
   "metadata": {},
   "outputs": [
    {
     "name": "stdout",
     "output_type": "stream",
     "text": [
      "Enter the value:6\n",
      "1 1 1 1 1 1 \n",
      "2 2 2 2 2 2 \n",
      "3 3 3 3 3 3 \n",
      "4 4 4 4 4 4 \n",
      "5 5 5 5 5 5 \n",
      "6 6 6 6 6 6 \n"
     ]
    }
   ],
   "source": [
    "m=int(input('Enter the value:'))\n",
    "for i in range(m):\n",
    "    print((str(i+1)+' ')*m)\n",
    "          "
   ]
  },
  {
   "cell_type": "code",
   "execution_count": 32,
   "metadata": {},
   "outputs": [
    {
     "name": "stdout",
     "output_type": "stream",
     "text": [
      "Enter the number of Rows5\n",
      "A A A A A \n",
      "B B B B B \n",
      "C C C C C \n",
      "D D D D D \n",
      "E E E E E \n"
     ]
    }
   ],
   "source": [
    "p=int(input(\"Enter the number of Rows\"))\n",
    "for x in range(p):\n",
    "    print((chr(65+x)+' ')*p)\n",
    "    "
   ]
  },
  {
   "cell_type": "code",
   "execution_count": 31,
   "metadata": {},
   "outputs": [
    {
     "name": "stdout",
     "output_type": "stream",
     "text": [
      "Enter the number of Rows5\n",
      "a a a a a \n",
      "b b b b b \n",
      "c c c c c \n",
      "d d d d d \n",
      "e e e e e \n"
     ]
    }
   ],
   "source": [
    "p1=int(input(\"Enter the number of Rows\"))\n",
    "for x in range(p1):\n",
    "    print((chr(97+x)+' ')*p1)"
   ]
  },
  {
   "cell_type": "code",
   "execution_count": 33,
   "metadata": {},
   "outputs": [],
   "source": [
    "#WAP to print right angle triangle with pattern *"
   ]
  },
  {
   "cell_type": "code",
   "execution_count": 44,
   "metadata": {},
   "outputs": [
    {
     "name": "stdout",
     "output_type": "stream",
     "text": [
      "Enter the number of Rows4\n",
      "* * * * \n",
      "* * * \n",
      "* * \n",
      "* \n"
     ]
    }
   ],
   "source": [
    "p1=int(input(\"Enter the number of Rows\"))\n",
    "for x in range(p1,0,-1):\n",
    "    for y in range(x):\n",
    "        print('*',end=' ')\n",
    "    print()       "
   ]
  },
  {
   "cell_type": "code",
   "execution_count": null,
   "metadata": {},
   "outputs": [],
   "source": []
  }
 ],
 "metadata": {
  "kernelspec": {
   "display_name": "Python 3",
   "language": "python",
   "name": "python3"
  },
  "language_info": {
   "codemirror_mode": {
    "name": "ipython",
    "version": 3
   },
   "file_extension": ".py",
   "mimetype": "text/x-python",
   "name": "python",
   "nbconvert_exporter": "python",
   "pygments_lexer": "ipython3",
   "version": "3.7.6"
  }
 },
 "nbformat": 4,
 "nbformat_minor": 4
}
